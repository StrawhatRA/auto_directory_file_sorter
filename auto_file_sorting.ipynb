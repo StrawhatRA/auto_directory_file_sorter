{
 "cells": [
  {
   "cell_type": "code",
   "execution_count": null,
   "metadata": {},
   "outputs": [],
   "source": [
    "import os\n",
    "import shutil\n",
    "\n",
    "def organize_files(directory):\n",
    "    if not os.path.exists(directory):\n",
    "        print(f\"Directory '{directory}' does not exist.\")\n",
    "        return\n",
    "\n",
    "    for filename in os.listdir(directory):\n",
    "        filepath = os.path.join(directory, filename)\n",
    "\n",
    "        if os.path.isfile(filepath):  \n",
    "            file_extension = filename.split('.')[-1] if '.' in filename else 'No_Extension'\n",
    "            target_folder = os.path.join(directory, file_extension)\n",
    "\n",
    "            if not os.path.exists(target_folder):\n",
    "                os.makedirs(target_folder)\n",
    "\n",
    "            shutil.move(filepath, os.path.join(target_folder, filename))\n",
    "\n",
    "# Example usage:\n",
    "organize_files(\"c:\\\\Users\\\\straw\\\\Desktop\\\\Amazon_Web_Scraper\")  # Replace with actual directory path\n"
   ]
  }
 ],
 "metadata": {
  "kernelspec": {
   "display_name": "base",
   "language": "python",
   "name": "python3"
  },
  "language_info": {
   "codemirror_mode": {
    "name": "ipython",
    "version": 3
   },
   "file_extension": ".py",
   "mimetype": "text/x-python",
   "name": "python",
   "nbconvert_exporter": "python",
   "pygments_lexer": "ipython3",
   "version": "3.9.12"
  }
 },
 "nbformat": 4,
 "nbformat_minor": 2
}
